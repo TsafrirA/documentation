{
 "cells": [
  {
   "cell_type": "markdown",
   "metadata": {},
   "source": [
    "# Fractional Gates\n",
    "\n",
    "This page introduces two newly supported gate types on the IBM Quantum fleet of QPUs, $R_{ZZ}(\\theta)$ and $R_X(\\theta)$, and discusses the usecases which enable your quantum workflows to become more efficient. \n",
    "\n",
    "### Page outline\n",
    "\n",
    "- Go over what these gates are\n",
    "- Explain the situation in which these gates can be used (and why they are more efficient).\n",
    "  - Go over the example usecase of simulating an Ising system.\n",
    "- Explain the syntax for these gates.\n",
    "- How do they differ from parametrized gates.   "
   ]
  },
  {
   "cell_type": "markdown",
   "metadata": {},
   "source": [
    "## Where to use fractional gates\n",
    "\n",
    "When constructing circuits containing single or two-qubit rotations and transpiling to an IBM Quantum backend, the circuit is restricted to only execute "
   ]
  },
  {
   "cell_type": "code",
   "execution_count": 4,
   "metadata": {},
   "outputs": [
    {
     "data": {
      "text/html": [
       "<pre style=\"word-wrap: normal;white-space: pre;background: #fff0;line-height: 1.1;font-family: &quot;Courier New&quot;,Courier,monospace\">   ┌─────────┐\n",
       "q: ┤ Rx(π/2) ├\n",
       "   └─────────┘</pre>"
      ],
      "text/plain": [
       "   ┌─────────┐\n",
       "q: ┤ Rx(π/2) ├\n",
       "   └─────────┘"
      ]
     },
     "execution_count": 4,
     "metadata": {},
     "output_type": "execute_result"
    }
   ],
   "source": [
    "from qiskit import QuantumCircuit\n",
    "from qiskit.transpiler.preset_passmanagers import generate_preset_pass_manager\n",
    "\n",
    "from qiskit_ibm_runtime import QiskitRuntimeService\n",
    "import numpy as np\n",
    "\n",
    "qc = QuantumCircuit(1)\n",
    "qc.rx(0.5*np.pi, 0)\n",
    "qc.draw()"
   ]
  },
  {
   "cell_type": "code",
   "execution_count": null,
   "metadata": {},
   "outputs": [],
   "source": [
    "service = QiskitRuntimeService()\n",
    "backend = service.least_busy()"
   ]
  },
  {
   "cell_type": "markdown",
   "metadata": {},
   "source": []
  }
 ],
 "metadata": {
  "kernelspec": {
   "display_name": "qiskit_1-0_scratch_space-fyWgEqUn-py3.11",
   "language": "python",
   "name": "python3"
  },
  "language_info": {
   "codemirror_mode": {
    "name": "ipython",
    "version": 3
   },
   "file_extension": ".py",
   "mimetype": "text/x-python",
   "name": "python",
   "nbconvert_exporter": "python",
   "pygments_lexer": "ipython3",
   "version": "3.11.7"
  }
 },
 "nbformat": 4,
 "nbformat_minor": 2
}
