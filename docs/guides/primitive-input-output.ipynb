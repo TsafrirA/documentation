{
 "cells": [
  {
   "cell_type": "markdown",
   "id": "e8a8a4b1-2ed2-4b82-8d02-98174a6da903",
   "metadata": {},
   "source": [
    "# Understanding primitive inputs and outputs\n",
    "\n",
    "This page gives an overview of the inputs and outputs of the Qiskit Runtime V2 primitives that execute workloads on IBM Quantum&trade; compute resources. These primitives provide you with the ability to efficiently define vectorized workloads by using a data structure known as a **Primitive Unified Bloc (PUB)**. These PUBs are the fundamental unit of work a QPU needs to execute these workloads.\n",
    "\n",
    "After being submitted as jobs to the IBM Quantum Platform, they are executed and the data returned is dependent on the format PUBs which were executed, as well as any error mitigation, suppression, or other runtime options that were defined when the primitive was invoked."
   ]
  },
  {
   "cell_type": "markdown",
   "id": "04b9204f-f058-433b-89f9-05df14645e27",
   "metadata": {},
   "source": [
    "## Overview of PUBS\n",
    "\n",
    "The PUB data structure defines individual workloads to be submitted to a backend for execution on a QPU. It is a tuple that contains four values:\n",
    "- A single `QuantumCircuit`, which can contain one or more `Parameters`\n",
    "- A list of one or more observables, which specify the expectation values to estimate. The data can be in any one of the `ObservablesArrayLike` format such as `Pauli`, `SparsePauliOp`, or `str` (not needed for the `Sampler` primitive)\n",
    "- A collection of parameter values to bind the circuit against $\\theta_k$\n",
    "- (Optionally) a target precision for expectation values to estimate (not needed for the `Sampler` primitive)\n",
    "\n",
    "When invoking a primitive's [`run()`](../api/qiskit-ibm-runtime/qiskit_ibm_runtime.EstimatorV2#run) method, the argument expected is a `list` of one or more PUBs, the data of which will depend on the computation being submitted to the backend.\n",
    "\n",
    "The below code demonstrates an example set of vectorized inputs to the `Estimator` primitive and executes them on an IBM backend as a single `RuntimeJobV2 ` object."
   ]
  },
  {
   "cell_type": "code",
   "execution_count": null,
   "id": "0c2081df-e117-4eff-8505-fe436c341dd9",
   "metadata": {},
   "outputs": [],
   "source": [
    "from qiskit_ibm_runtime import QiskitRuntimeService\n",
    "from qiskit.circuit import Parameter, QuantumCircuit\n",
    "from qiskit_ibm_runtime import (\n",
    "    EstimatorV2 as Estimator,\n",
    "    SamplerV2 as Sampler,\n",
    "    QiskitRuntimeService,\n",
    ")\n",
    "from qiskit.transpiler.preset_passmanagers import generate_preset_pass_manager\n",
    "from qiskit.quantum_info import Pauli, SparsePauliOp\n",
    "import numpy as np\n",
    "\n",
    "# Instantiate runtime service and get\n",
    "# the least busy backend\n",
    "service = QiskitRuntimeService()\n",
    "backend = service.least_busy(operational=True, simulator=False)\n",
    "\n",
    "# Define a circuit with two parameters.\n",
    "circuit = QuantumCircuit(2)\n",
    "circuit.h(0)\n",
    "circuit.cx(0, 1)\n",
    "circuit.ry(Parameter(\"a\"), 0)\n",
    "circuit.rz(Parameter(\"b\"), 0)\n",
    "circuit.cx(0, 1)\n",
    "circuit.h(0)\n",
    "\n",
    "# Transpile the circuit\n",
    "pm = generate_preset_pass_manager(optimization_level=1, backend=backend)\n",
    "transpiled_circuit = pm.run(circuit)\n",
    "layout = transpiled_circuit.layout\n",
    "\n",
    "\n",
    "# Now define a sweep over parameter values, where the two axes are over the\n",
    "# two parameters in the circuit.\n",
    "params = np.vstack(\n",
    "    [\n",
    "        np.linspace(-np.pi, np.pi, 100),\n",
    "        np.linspace(-4 * np.pi, 4 * np.pi, 100),\n",
    "    ]\n",
    ").T\n",
    "\n",
    "# Define three observables. The inner length-1 lists cause this array of\n",
    "# observables to have shape (3, 1), rather than shape (3,) if they were\n",
    "# omitted.\n",
    "observables = [\n",
    "    [SparsePauliOp([\"XX\", \"IY\"], [0.5, 0.5])],\n",
    "    [SparsePauliOp(\"XX\")],\n",
    "    [SparsePauliOp(\"IY\")],\n",
    "]\n",
    "# Apply the same layout as the transpiled circuit.\n",
    "observables = [\n",
    "    [observable.apply_layout(layout) for observable in observable_set]\n",
    "    for observable_set in observables\n",
    "]\n",
    "\n",
    "# Estimate the expectation value for all 300 combinations of observables\n",
    "# and parameter values, where the pub result will have shape (3, 100).\n",
    "#\n",
    "# This shape is due to our array of parameter bindings having shape\n",
    "# (100, 2), combined with our array of observables having shape (3, 1).\n",
    "estimator_pub = (transpiled_circuit, observables, params)\n",
    "\n",
    "# Instantiate the new estimator object, then run the transpiled circuit\n",
    "# using the set of parameters and observables.\n",
    "estimator = Estimator(mode=backend)\n",
    "job = estimator.run([estimator_pub])\n",
    "result = job.result()"
   ]
  },
  {
   "cell_type": "markdown",
   "id": "dfbaa52f-be7a-406d-b1d7-950daf90fd7f",
   "metadata": {},
   "source": [
    "## Overview of primitive results\n",
    "\n",
    "Once one or more PUBs are sent to a QPU for execution and a job successfully completes, the data is returned as a `PrimitiveResult` container object accessed by calling the `RuntimeJobV2.result()` method. This data structure contains an iterable list of `PubResult` objects - one for every PUB - and each of these `PubResult` objects then contains the execution results of the PUB that was submitted. The data for each `PubResult` is contained within a `DataBin` container object, the attributes of which are dependent on the structure of the associated PUB, as well as the error mitigation options specified by the primitive that the job was submitted with (for example, [ZNE](./error-mitigation-and-suppression-techniques#zero-noise-extrapolation-zne) or [PEC](./error-mitigation-and-suppression-techniques#probabilistic-error-cancellation-pec)).\n",
    "\n",
    "However, no matter what runtime options are specified, each `PubResult` for the Estimator primitive contains a list of expectation values (`PubResult.data.evs`) and associated standard deviations (either `PubResult.data.stds` or `PubResult.data.ensemble_standard_error` depending on the `resilience_level` used)."
   ]
  },
  {
   "cell_type": "code",
   "execution_count": 23,
   "id": "8a4a1929-6191-4061-9fb2-916d2580d1ae",
   "metadata": {},
   "outputs": [
    {
     "name": "stdout",
     "output_type": "stream",
     "text": [
      "The result of the submitted job had 1 PUB and has a value:\n",
      " PrimitiveResult([PubResult(data=DataBin(evs=np.ndarray(<shape=(3, 100), dtype=float64>), stds=np.ndarray(<shape=(3, 100), dtype=float64>), ensemble_standard_error=np.ndarray(<shape=(3, 100), dtype=float64>), shape=(3, 100)), metadata={'shots': 8192, 'target_precision': 0.015625, 'circuit_metadata': {}, 'resilience': {}, 'num_randomizations': 64})], metadata={'dynamical_decoupling': {'enable': False, 'sequence_type': 'XX', 'extra_slack_distribution': 'middle', 'scheduling_method': 'alap'}, 'twirling': {'enable_gates': False, 'enable_measure': True, 'num_randomizations': 'auto', 'shots_per_randomization': 'auto', 'interleave_randomizations': True, 'strategy': 'active-accum'}, 'resilience': {'measure_mitigation': True, 'zne_mitigation': False, 'pec_mitigation': False}, 'version': 2})\n",
      "\n",
      "The associated PubResult of this job has the following data:\n",
      " DataBin(evs=np.ndarray(<shape=(3, 100), dtype=float64>), stds=np.ndarray(<shape=(3, 100), dtype=float64>), ensemble_standard_error=np.ndarray(<shape=(3, 100), dtype=float64>), shape=(3, 100))\n",
      "\n",
      "And this DataBin has attributes: dict_keys(['evs', 'stds', 'ensemble_standard_error'])\n"
     ]
    }
   ],
   "source": [
    "print(f'The result of the submitted job had {len(result)} PUB and has a value:\\n {result}\\n')\n",
    "print(f'The associated PubResult of this job has the following data:\\n {result[0].data}\\n')\n",
    "print(f'And this DataBin has attributes: {result[0].data.keys()}')"
   ]
  },
  {
   "cell_type": "markdown",
   "id": "a93948fa-35f6-4354-9df7-510a02998f79",
   "metadata": {},
   "source": [
    "### Sampler output\n",
    "\n",
    "\n",
    "The Sampler primitive outputs job results in a similar format, with the exception that each `DataBin` will contain one or more `BitArray` objects that store the measured probability distribution(s). The number and attribute label for each bit array object depends on how the `ClassicalRegisters` were defined for the circuit being executed. The measurement data from these `BitArrays` can then be processed into a dictionary with key-value pairs corresponding to each bitstring measured (for example, '1011001') and the number of times (or counts) it was measured.\n",
    "\n",
    "For example, a circuit that has measurement instructions added by the [`QuantumCircuit.measure_all()`](../api/qiskit/qiskit.circuit.QuantumCircuit#measure_all) function possesses a classical register with the label *'meas'*. After execution, a count data dictionary can be created by executing:"
   ]
  },
  {
   "cell_type": "code",
   "execution_count": null,
   "id": "ea9cd691-58d2-4612-86b1-e0b58551b352",
   "metadata": {},
   "outputs": [],
   "source": [
    "# Add measurement instructions to the example circuit\n",
    "circuit.measure_all()\n",
    "\n",
    "# Transpile the circuit\n",
    "pm = generate_preset_pass_manager(optimization_level=1, backend=backend)\n",
    "transpiled_circuit = pm.run(circuit)\n",
    "\n",
    "# Create a PUB for the Sampler primitive using the same parameters defined earlier\n",
    "sampler_pub = (transpiled_circuit, params)\n",
    "\n",
    "\n",
    "sampler = Sampler(mode=backend)\n",
    "job = sampler.run([sampler_pub])\n",
    "result = job.result()"
   ]
  },
  {
   "cell_type": "code",
   "execution_count": null,
   "id": "a5160c3f-e977-47c0-a351-66e2cb544c22",
   "metadata": {},
   "outputs": [
    {
     "name": "stdout",
     "output_type": "stream",
     "text": [
      "Sampler Data is: DataBin(meas=BitArray(<shape=(100,), num_shots=4096, num_bits=2>), shape=(100,))\n",
      "Its keys are: dict_items([('meas', BitArray(<shape=(100,), num_shots=4096, num_bits=2>))])\n"
     ]
    },
    {
     "data": {
      "text/plain": [
       "{'11': 115808, '10': 104963, '01': 89334, '00': 99495}"
      ]
     },
     "metadata": {},
     "output_type": "display_data"
    }
   ],
   "source": [
    "print(f'Sampler Data is: {result[0].data}')\n",
    "print(f'It has the key-value pair: {result[0].data.items()}')\n",
    "\n",
    "result[0].data.meas.get_counts()"
   ]
  },
  {
   "cell_type": "markdown",
   "id": "c5c93b0f-724f-44b8-9d9d-bb93daf1950b",
   "metadata": {},
   "source": [
    "## Result Metadata\n",
    "\n",
    "In addition to the execution results, both the `PrimitiveResult` and `PubResult` objects contain a metadata attribute about the job that was submitted. The metadata that contains information for all submitted PUBs (such as the various [runtime options](../api/qiskit-ibm-runtime/options) available) can be found in the `PrimitiveResult.metatada`, while the metadata specific to each PUB is found in `PubResult.metadata`."
   ]
  },
  {
   "cell_type": "code",
   "execution_count": 24,
   "id": "48a17180-4f85-413e-82dc-3a0389c11975",
   "metadata": {},
   "outputs": [
    {
     "name": "stdout",
     "output_type": "stream",
     "text": [
      "The metadata of the PrimitiveResult is:\n",
      "'dynamical_decoupling' : {'enable': False, 'sequence_type': 'XX', 'extra_slack_distribution': 'middle', 'scheduling_method': 'alap'},\n",
      "'twirling' : {'enable_gates': False, 'enable_measure': True, 'num_randomizations': 'auto', 'shots_per_randomization': 'auto', 'interleave_randomizations': True, 'strategy': 'active-accum'},\n",
      "'resilience' : {'measure_mitigation': True, 'zne_mitigation': False, 'pec_mitigation': False},\n",
      "'version' : 2,\n",
      "\n",
      "The metadata of the PubResult result is:\n",
      "'shots' : 8192,\n",
      "'target_precision' : 0.015625,\n",
      "'circuit_metadata' : {},\n",
      "'resilience' : {},\n",
      "'num_randomizations' : 64,\n"
     ]
    }
   ],
   "source": [
    "# Print out the results metadata\n",
    "print(f'The metadata of the PrimitiveResult is:')\n",
    "for key, val in result.metadata.items():\n",
    "    print(f\"'{key}' : {val},\")\n",
    "\n",
    "print(f'\\nThe metadata of the PubResult result is:')\n",
    "for key, val in result[0].metadata.items():\n",
    "    print(f\"'{key}' : {val},\")"
   ]
  }
 ],
 "metadata": {
  "celltoolbar": "Raw Cell Format",
  "description": "Understand the input and output format of the primitives",
  "kernelspec": {
   "display_name": "Python 3",
   "language": "python",
   "name": "python3"
  },
  "language_info": {
   "codemirror_mode": {
    "name": "ipython",
    "version": 3
   },
   "file_extension": ".py",
   "mimetype": "text/x-python",
   "name": "python",
   "nbconvert_exporter": "python",
   "pygments_lexer": "ipython3",
   "version": "3"
  },
  "title": "PUBs and primitive results"
 },
 "nbformat": 4,
 "nbformat_minor": 2
}
