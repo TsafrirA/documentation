{
 "cells": [
  {
   "cell_type": "markdown",
   "id": "e8a8a4b1-2ed2-4b82-8d02-98174a6da903",
   "metadata": {},
   "source": [
    "# Primitive inputs and outputs\n",
    "\n",
    "This page gives an overview of the inputs and outputs of the Qiskit Runtime V2 primitives that execute workloads on IBM Quantum&trade; compute resources. These primitives provide you with the ability to efficiently define vectorized workloads by using a data structure known as a **Primitive Unified Bloc (PUB)**. These PUBs are the fundamental unit of work a QPU needs to execute these workloads. Then, after being submitted as jobs to a QPU, the results are returned in a format that is dependent on both the PUBs used as well as the runtime options specified from the Sampler or Estimator primitives."
   ]
  },
  {
   "cell_type": "markdown",
   "id": "04b9204f-f058-433b-89f9-05df14645e27",
   "metadata": {},
   "source": [
    "## Overview of PUBS\n",
    "\n",
    "The PUB data structure defines individual workloads to be submitted to a backend for execution on a QPU. It is a tuple that contains four values:\n",
    "- A single `QuantumCircuit`, which can contain one or more `Parameters`\n",
    "- A list of one or more observables, which specify the expectation values to estimate. The data can be in any one of the `ObservablesArrayLike` format such as `Pauli`, `SparsePauliOp`, or `str` (not needed for the `Sampler` primitive)\n",
    "- A collection of parameter values to bind the circuit against $\\theta_k$\n",
    "- (Optionally) a target precision for expectation values to estimate (not needed for the `Sampler` primitive)\n",
    "\n",
    "When invoking a primitive's [`run()`](../api/qiskit-ibm-runtime/qiskit_ibm_runtime.EstimatorV2#run) method, the argument expected is a `list` of one or more PUBs, the data of which will depend on the computation being submitted to the backend.\n",
    "\n",
    "The below code demonstrates an example set of vectorized inputs to the `Estimator` primitive and executes them on an IBM backend as a single `RuntimeJobV2 ` object."
   ]
  },
  {
   "cell_type": "code",
   "execution_count": 1,
   "id": "0c2081df-e117-4eff-8505-fe436c341dd9",
   "metadata": {},
   "outputs": [],
   "source": [
    "from qiskit_ibm_runtime import QiskitRuntimeService\n",
    "from qiskit.circuit import Parameter, QuantumCircuit\n",
    "from qiskit_ibm_runtime import (\n",
    "    EstimatorV2 as Estimator,\n",
    "    SamplerV2 as Sampler,\n",
    "    QiskitRuntimeService,\n",
    ")\n",
    "from qiskit.transpiler.preset_passmanagers import generate_preset_pass_manager\n",
    "from qiskit.quantum_info import Pauli, SparsePauliOp\n",
    "import numpy as np\n",
    "\n",
    "# Instantiate runtime service and get\n",
    "# the least busy backend\n",
    "service = QiskitRuntimeService()\n",
    "backend = service.least_busy(operational=True, simulator=False)\n",
    "\n",
    "# Define a circuit with two parameters.\n",
    "circuit = QuantumCircuit(2)\n",
    "circuit.h(0)\n",
    "circuit.cx(0, 1)\n",
    "circuit.ry(Parameter(\"a\"), 0)\n",
    "circuit.rz(Parameter(\"b\"), 0)\n",
    "circuit.cx(0, 1)\n",
    "circuit.h(0)\n",
    "\n",
    "# Transpile the circuit\n",
    "pm = generate_preset_pass_manager(optimization_level=1, backend=backend)\n",
    "transpiled_circuit = pm.run(circuit)\n",
    "layout = transpiled_circuit.layout\n",
    "\n",
    "\n",
    "# Now define a sweep over parameter values, where the two axes are over the\n",
    "# two parameters in the circuit.\n",
    "params = np.vstack(\n",
    "    [\n",
    "        np.linspace(-np.pi, np.pi, 100),\n",
    "        np.linspace(-4 * np.pi, 4 * np.pi, 100),\n",
    "    ]\n",
    ").T\n",
    "\n",
    "# Define three observables. The inner length-1 lists cause this array of\n",
    "# observables to have shape (3, 1), rather than shape (3,) if they were\n",
    "# omitted.\n",
    "observables = [\n",
    "    [SparsePauliOp([\"XX\", \"IY\"], [0.5, 0.5])],\n",
    "    [SparsePauliOp(\"XX\")],\n",
    "    [SparsePauliOp(\"IY\")],\n",
    "]\n",
    "# Apply the same layout as the transpiled circuit.\n",
    "observables = [\n",
    "    [observable.apply_layout(layout) for observable in observable_set]\n",
    "    for observable_set in observables\n",
    "]\n",
    "\n",
    "# Estimate the expectation value for all 300 combinations of observables\n",
    "# and parameter values, where the pub result will have shape (3, 100).\n",
    "#\n",
    "# This shape is due to our array of parameter bindings having shape\n",
    "# (100, 2), combined with our array of observables having shape (3, 1).\n",
    "estimator_pub = (transpiled_circuit, observables, params)\n",
    "\n",
    "# Instantiate the new estimator object, then run the transpiled circuit\n",
    "# using the set of parameters and observables.\n",
    "estimator = Estimator(mode=backend)\n",
    "job = estimator.run([estimator_pub])\n",
    "result = job.result()"
   ]
  },
  {
   "cell_type": "markdown",
   "id": "dfbaa52f-be7a-406d-b1d7-950daf90fd7f",
   "metadata": {},
   "source": [
    "## Overview of primitive results\n",
    "\n",
    "Once one or more PUBs are sent to a QPU for execution and a job successfully completes, the data is returned as a `PrimitiveResult` container object accessed by calling the `RuntimeJobV2.result()` method. This data structure contains an iterable list of `PubResult` objects - one for every PUB - and each of these `PubResult` objects then contains the execution results of the PUB that was submitted. The data for each `PubResult` is contained within a `DataBin` container object, the attributes of which are dependent on the structure of the associated PUB, as well as the error mitigation options specified by the primitive that the job was submitted with (for example, [ZNE](./error-mitigation-and-suppression-techniques#zero-noise-extrapolation-zne) or [PEC](./error-mitigation-and-suppression-techniques#probabilistic-error-cancellation-pec)).\n",
    "\n",
    "However, no matter what runtime options are specified, each `PubResult` for the Estimator primitive contains a list of expectation values (`PubResult.data.evs`) and associated standard deviations (either `PubResult.data.stds` or `PubResult.data.ensemble_standard_error` depending on the `resilience_level` used)."
   ]
  },
  {
   "cell_type": "code",
   "execution_count": 2,
   "id": "8a4a1929-6191-4061-9fb2-916d2580d1ae",
   "metadata": {},
   "outputs": [
    {
     "name": "stdout",
     "output_type": "stream",
     "text": [
      "The result of the submitted job had 1 PUB and has a value:\n",
      " PrimitiveResult([PubResult(data=DataBin(evs=np.ndarray(<shape=(3, 100), dtype=float64>), stds=np.ndarray(<shape=(3, 100), dtype=float64>), ensemble_standard_error=np.ndarray(<shape=(3, 100), dtype=float64>), shape=(3, 100)), metadata={'shots': 8192, 'target_precision': 0.015625, 'circuit_metadata': {}, 'resilience': {}, 'num_randomizations': 64})], metadata={'dynamical_decoupling': {'enable': False, 'sequence_type': 'XX', 'extra_slack_distribution': 'middle', 'scheduling_method': 'alap'}, 'twirling': {'enable_gates': False, 'enable_measure': True, 'num_randomizations': 'auto', 'shots_per_randomization': 'auto', 'interleave_randomizations': True, 'strategy': 'active-accum'}, 'resilience': {'measure_mitigation': True, 'zne_mitigation': False, 'pec_mitigation': False}, 'version': 2})\n",
      "\n",
      "The associated PubResult of this job has the following DataBins:\n",
      " DataBin(evs=np.ndarray(<shape=(3, 100), dtype=float64>), stds=np.ndarray(<shape=(3, 100), dtype=float64>), ensemble_standard_error=np.ndarray(<shape=(3, 100), dtype=float64>), shape=(3, 100))\n",
      "\n",
      "And this DataBin has attributes: dict_keys(['evs', 'stds', 'ensemble_standard_error'])\n",
      "The expectation values measured from this PUB are: \n",
      "[[-0.1253276  -0.02711811  0.15850089  0.25400904  0.358169    0.44055176\n",
      "   0.43474898  0.57536626  0.55459335  0.55629578  0.52672338  0.47779854\n",
      "   0.41996413  0.42307899  0.38785687  0.33925426  0.39231703  0.37139105\n",
      "   0.34996026  0.35689889  0.4612656   0.46612586  0.52343398  0.56602168\n",
      "   0.57885169  0.58767803  0.60378402  0.60561803  0.57027239  0.57247159\n",
      "   0.59607742  0.50760188  0.47214346  0.47415201  0.41861883  0.44952847\n",
      "   0.43219533  0.44040676  0.40249941  0.48040858  0.5679443   0.59436693\n",
      "   0.55982417  0.53112715  0.60474802  0.50413793  0.4190055   0.40432805\n",
      "   0.32332012  0.08527207  0.02348499 -0.04901882 -0.09975081 -0.30863193\n",
      "  -0.37666753 -0.38527905 -0.39232508 -0.5119788  -0.53687354 -0.53561685\n",
      "  -0.47661167 -0.41843892 -0.45587367 -0.40774903 -0.36241971 -0.39365964\n",
      "  -0.38070611 -0.41234882 -0.38852817 -0.43184894 -0.50237374 -0.51781111\n",
      "  -0.55595744 -0.5583097  -0.58454437 -0.61667848 -0.56125271 -0.59292496\n",
      "  -0.52196784 -0.49473964 -0.56176291 -0.41409959 -0.40781079 -0.37921044\n",
      "  -0.419078   -0.40519806 -0.40361915 -0.45760832 -0.44122575 -0.51825149\n",
      "  -0.5399347  -0.54930077 -0.61266407 -0.52275998 -0.58784989 -0.46842173\n",
      "  -0.43105411 -0.33410399 -0.23594552 -0.09199856]\n",
      " [-0.28107345 -0.24435028  0.00141243  0.05649718  0.14124294  0.3079096\n",
      "   0.22881356  0.49293785  0.56355932  0.65536723  0.72740113  0.77118644\n",
      "   0.78954802  0.88418079  0.94491525  0.92090395  1.05649718  1.05932203\n",
      "   1.01836158  1.00847458  1.14971751  1.12711864  1.16949153  1.20903955\n",
      "   1.15960452  1.15254237  1.16384181  1.1779661   1.21468927  1.2019774\n",
      "   1.28531073  1.20056497  1.16101695  1.13841808  1.02259887  1.06920904\n",
      "   0.96610169  0.88841808  0.76412429  0.8220339   0.85451977  0.79519774\n",
      "   0.61299435  0.55084746  0.66101695  0.42937853  0.39124294  0.42937853\n",
      "   0.32344633  0.10875706  0.10875706  0.06355932  0.08757062 -0.16384181\n",
      "  -0.19915254 -0.23728814 -0.20480226 -0.52966102 -0.59180791 -0.70621469\n",
      "  -0.67090395 -0.71045198 -0.88418079 -0.90960452 -0.89689266 -1.0240113\n",
      "  -1.04943503 -1.09180791 -1.05367232 -1.08898305 -1.20056497 -1.15254237\n",
      "  -1.17655367 -1.23163842 -1.21186441 -1.30084746 -1.16242938 -1.24858757\n",
      "  -1.1779661  -1.15677966 -1.30508475 -1.07344633 -1.04661017 -1.01412429\n",
      "  -0.9759887  -0.94632768 -0.87853107 -0.81920904 -0.71610169 -0.75988701\n",
      "  -0.69774011 -0.62711864 -0.64548023 -0.51129944 -0.56638418 -0.3940678\n",
      "  -0.45621469 -0.35451977 -0.25706215 -0.19350282]\n",
      " [ 0.03041825  0.19011407  0.31558935  0.45152091  0.57509506  0.57319392\n",
      "   0.64068441  0.65779468  0.54562738  0.45722433  0.32604563  0.18441065\n",
      "   0.05038023 -0.03802281 -0.16920152 -0.24239544 -0.27186312 -0.31653992\n",
      "  -0.31844106 -0.29467681 -0.22718631 -0.19486692 -0.12262357 -0.0769962\n",
      "  -0.00190114  0.02281369  0.04372624  0.03326996 -0.07414449 -0.05703422\n",
      "  -0.09315589 -0.18536122 -0.21673004 -0.19011407 -0.18536122 -0.17015209\n",
      "  -0.10171103 -0.00760456  0.04087452  0.13878327  0.28136882  0.39353612\n",
      "   0.50665399  0.51140684  0.54847909  0.57889734  0.44676806  0.37927757\n",
      "   0.32319392  0.06178707 -0.06178707 -0.16159696 -0.28707224 -0.45342205\n",
      "  -0.55418251 -0.53326996 -0.57984791 -0.49429658 -0.48193916 -0.36501901\n",
      "  -0.28231939 -0.12642586 -0.02756654  0.09410646  0.17205323  0.23669202\n",
      "   0.28802281  0.26711027  0.27661597  0.22528517  0.19581749  0.11692015\n",
      "   0.06463878  0.11501901  0.04277567  0.06749049  0.03992395  0.06273764\n",
      "   0.13403042  0.16730038  0.18155894  0.24524715  0.23098859  0.25570342\n",
      "   0.1378327   0.13593156  0.07129278 -0.0960076  -0.16634981 -0.27661597\n",
      "  -0.38212928 -0.47148289 -0.57984791 -0.53422053 -0.60931559 -0.54277567\n",
      "  -0.40589354 -0.31368821 -0.2148289   0.0095057 ]]\n"
     ]
    }
   ],
   "source": [
    "print(f'The result of the submitted job had {len(result)} PUB and has a value:\\n {result}\\n')\n",
    "print(f'The associated PubResult of this job has the following DataBins:\\n {result[0].data}\\n')\n",
    "print(f'And this DataBin has attributes: {result[0].data.keys()}')\n",
    "print(f'The expectation values measured from this PUB are: \\n{result[0].data.evs}')"
   ]
  },
  {
   "cell_type": "markdown",
   "id": "a93948fa-35f6-4354-9df7-510a02998f79",
   "metadata": {},
   "source": [
    "### Sampler output\n",
    "\n",
    "\n",
    "The Sampler primitive outputs job results in a similar format, with the exception that each `DataBin` will contain one or more `BitArray` objects that store the measured probability distribution(s). The number and attribute label for each bit array object depends on how the `ClassicalRegisters` were defined for the circuit being executed. The measurement data from these `BitArrays` can then be processed into a dictionary with key-value pairs corresponding to each bitstring measured (for example, '1011001') and the number of times (or counts) it was measured.\n",
    "\n",
    "For example, a circuit that has measurement instructions added by the [`QuantumCircuit.measure_all()`](../api/qiskit/qiskit.circuit.QuantumCircuit#measure_all) function possesses a classical register with the label *'meas'*. After execution, a count data dictionary can be created by executing:"
   ]
  },
  {
   "cell_type": "code",
   "execution_count": null,
   "id": "ea9cd691-58d2-4612-86b1-e0b58551b352",
   "metadata": {},
   "outputs": [],
   "source": [
    "# Add measurement instructions to the example circuit\n",
    "circuit.measure_all()\n",
    "\n",
    "# Transpile the circuit\n",
    "pm = generate_preset_pass_manager(optimization_level=1, backend=backend)\n",
    "transpiled_circuit = pm.run(circuit)\n",
    "\n",
    "# Create a PUB for the Sampler primitive using the same parameters defined earlier\n",
    "sampler_pub = (transpiled_circuit, params)\n",
    "\n",
    "\n",
    "sampler = Sampler(mode=backend)\n",
    "job = sampler.run([sampler_pub])\n",
    "result = job.result()"
   ]
  },
  {
   "cell_type": "code",
   "execution_count": 6,
   "metadata": {},
   "outputs": [],
   "source": [
    "result = service.job('ct25v5wwtztg008aszng').result()"
   ]
  },
  {
   "cell_type": "code",
   "execution_count": 11,
   "id": "a5160c3f-e977-47c0-a351-66e2cb544c22",
   "metadata": {},
   "outputs": [
    {
     "name": "stdout",
     "output_type": "stream",
     "text": [
      "The result of the submitted job had 1 PUB and has a value:\n",
      " PrimitiveResult([PubResult(data=DataBin(meas=BitArray(<shape=(100,), num_shots=4096, num_bits=2>), shape=(100,)), metadata={'circuit_metadata': {}})], metadata={'version': 2})\n",
      "\n",
      "The associated PubResult of this Sampler job has the following DataBins:\n",
      " DataBin(meas=BitArray(<shape=(100,), num_shots=4096, num_bits=2>), shape=(100,))\n",
      "\n",
      "It has a key-value pair dict: \n",
      "dict_items([('meas', BitArray(<shape=(100,), num_shots=4096, num_bits=2>))])\n",
      "\n",
      "And the raw count data is: \n",
      "{'11': 115808, '10': 104963, '01': 89334, '00': 99495}\n"
     ]
    }
   ],
   "source": [
    "print(f'The result of the submitted job had {len(result)} PUB and has a value:\\n {result}\\n')\n",
    "print(f'The associated PubResult of this Sampler job has the following DataBins:\\n {result[0].data}\\n')\n",
    "print(f'It has a key-value pair dict: \\n{result[0].data.items()}\\n')\n",
    "print(f'And the raw count data is: \\n{result[0].data.meas.get_counts()}')"
   ]
  },
  {
   "cell_type": "markdown",
   "id": "c5c93b0f-724f-44b8-9d9d-bb93daf1950b",
   "metadata": {},
   "source": [
    "## Result Metadata\n",
    "\n",
    "In addition to the execution results, both the `PrimitiveResult` and `PubResult` objects contain a metadata attribute about the job that was submitted. The metadata that contains information for all submitted PUBs (such as the various [runtime options](../api/qiskit-ibm-runtime/options) available) can be found in the `PrimitiveResult.metatada`, while the metadata specific to each PUB is found in `PubResult.metadata`."
   ]
  },
  {
   "cell_type": "code",
   "execution_count": 24,
   "id": "48a17180-4f85-413e-82dc-3a0389c11975",
   "metadata": {},
   "outputs": [
    {
     "name": "stdout",
     "output_type": "stream",
     "text": [
      "The metadata of the PrimitiveResult is:\n",
      "'dynamical_decoupling' : {'enable': False, 'sequence_type': 'XX', 'extra_slack_distribution': 'middle', 'scheduling_method': 'alap'},\n",
      "'twirling' : {'enable_gates': False, 'enable_measure': True, 'num_randomizations': 'auto', 'shots_per_randomization': 'auto', 'interleave_randomizations': True, 'strategy': 'active-accum'},\n",
      "'resilience' : {'measure_mitigation': True, 'zne_mitigation': False, 'pec_mitigation': False},\n",
      "'version' : 2,\n",
      "\n",
      "The metadata of the PubResult result is:\n",
      "'shots' : 8192,\n",
      "'target_precision' : 0.015625,\n",
      "'circuit_metadata' : {},\n",
      "'resilience' : {},\n",
      "'num_randomizations' : 64,\n"
     ]
    }
   ],
   "source": [
    "# Print out the results metadata\n",
    "print(f'The metadata of the PrimitiveResult is:')\n",
    "for key, val in result.metadata.items():\n",
    "    print(f\"'{key}' : {val},\")\n",
    "\n",
    "print(f'\\nThe metadata of the PubResult result is:')\n",
    "for key, val in result[0].metadata.items():\n",
    "    print(f\"'{key}' : {val},\")"
   ]
  }
 ],
 "metadata": {
  "celltoolbar": "Raw Cell Format",
  "description": "Understand the input and output format of the primitives",
  "kernelspec": {
   "display_name": "Python 3",
   "language": "python",
   "name": "python3"
  },
  "language_info": {
   "codemirror_mode": {
    "name": "ipython",
    "version": 3
   },
   "file_extension": ".py",
   "mimetype": "text/x-python",
   "name": "python",
   "nbconvert_exporter": "python",
   "pygments_lexer": "ipython3",
   "version": "3.11.7"
  },
  "title": "PUBs and primitive results"
 },
 "nbformat": 4,
 "nbformat_minor": 2
}
