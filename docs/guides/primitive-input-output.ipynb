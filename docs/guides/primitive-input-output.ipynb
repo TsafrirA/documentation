{
 "cells": [
  {
   "cell_type": "markdown",
   "metadata": {},
   "source": [
    "# Understanding primitive inputs and outputs\n",
    "\n",
    "This page gives an overview of the inputs and outputs of the V2 primitives implemented by Qiskit Runtime which will execute workloads on an IBM Quantum backend. These interfaces provide you with the ability to efficiently define vectorized workloads by using a data structure known as a **Primitive Unified Bloc (PUB)**. These PUBs are used as the fundamental unit of work which a backend needs in order to execute these workloads.\n",
    "\n",
    "After being submitted as jobs to the IBM Quantum platform, they are executed and the data returned is dependent on the format PUBs which were executed, as well as any error mitigation, suppression, or other runtime options that were defined when the primitive was invoked."
   ]
  },
  {
   "cell_type": "markdown",
   "metadata": {},
   "source": [
    "## Overview of PUBS\n",
    "\n",
    "The PUB data structure defines individual workloads to be submitted to a backend for execution on a QPU. It is a tuple which contains four values:\n",
    "- A single `QuantumCircuit` which possibly containing one or more `Parameters`\n",
    "- A list of one or more observables, which specify the expectation values to estimate. The data can be in any one of the `ObservablesArrayLike` format such as `Pauli`, `SparsePauliOp`, or `str`. (Not needed for the `Sampler` primitive)\n",
    "- A collection of parameter values to bind the circuit against $\\theta_k$\n",
    "- (Optionally) a target precision for expectation values to estimate (Not needed for the `Sampler` primitive)\n",
    "\n",
    "When invoking a primitive's [`run()`](api/qiskit-ibm-runtime/qiskit_ibm_runtime.EstimatorV2#qiskit_ibm_runtime.EstimatorV2.run) method, the argument expected is a `list` of one or PUBs, the data of which will depend on the computation being submitted to the backend. \n",
    "\n",
    "The below code demonstrates an example set of vectorized inputs to the `Estimator` primitive and executes them on an IBM Quantum backend as a single `RuntimeJobV2 ` object."
   ]
  },
  {
   "cell_type": "code",
   "execution_count": null,
   "metadata": {},
   "outputs": [],
   "source": [
    "from qiskit_ibm_runtime import QiskitRuntimeService\n",
    "from qiskit.circuit import Parameter, QuantumCircuit\n",
    "from qiskit_ibm_runtime import (\n",
    "    EstimatorV2 as Estimator,\n",
    "    SamplerV2 as Sampler,\n",
    "    QiskitRuntimeService,\n",
    ")\n",
    "from qiskit.transpiler.preset_passmanagers import generate_preset_pass_manager\n",
    "from qiskit.quantum_info import Pauli, SparsePauliOp\n",
    "import numpy as np\n",
    "\n",
    "# Instantiate runtime service and get\n",
    "# the least busy backend\n",
    "service = QiskitRuntimeService()\n",
    "backend = service.least_busy(operational=True, simulator=False)\n",
    "\n",
    "# Define a circuit with two parameters.\n",
    "circuit = QuantumCircuit(2)\n",
    "circuit.h(0)\n",
    "circuit.cx(0, 1)\n",
    "circuit.ry(Parameter(\"a\"), 0)\n",
    "circuit.rz(Parameter(\"b\"), 0)\n",
    "circuit.cx(0, 1)\n",
    "circuit.h(0)\n",
    "\n",
    "# Transpile the circuit\n",
    "pm = generate_preset_pass_manager(optimization_level=1, backend=backend)\n",
    "transpiled_circuit = pm.run(circuit)\n",
    "layout = transpiled_circuit.layout\n",
    "\n",
    "\n",
    "# Now define a sweep over parameter values, where the two axes are over the\n",
    "# two parameters in the circuit.\n",
    "params = np.vstack(\n",
    "    [\n",
    "        np.linspace(-np.pi, np.pi, 100),\n",
    "        np.linspace(-4 * np.pi, 4 * np.pi, 100),\n",
    "    ]\n",
    ").T\n",
    "\n",
    "# Define three observables. The inner length-1 lists cause this array of\n",
    "# observables to have shape (3, 1), rather than shape (3,) if they were\n",
    "# omitted.\n",
    "observables = [\n",
    "    [SparsePauliOp([\"XX\", \"IY\"], [0.5, 0.5])],\n",
    "    [SparsePauliOp(\"XX\")],\n",
    "    [SparsePauliOp(\"IY\")],\n",
    "]\n",
    "# Apply the same layout as the transpiled circuit.\n",
    "observables = [\n",
    "    [observable.apply_layout(layout) for observable in observable_set]\n",
    "    for observable_set in observables\n",
    "]\n",
    "\n",
    "# Estimate the expectation value for all 300 combinations of observables\n",
    "# and parameter values, where the pub result will have shape (3, 100).\n",
    "#\n",
    "# This shape is due to our array of parameter bindings having shape\n",
    "# (100, 2), combined with our array of observables having shape (3, 1).\n",
    "estimator_pub = (transpiled_circuit, observables, params)\n",
    "\n",
    "# Instantiate the new estimator object, then run the transpiled circuit\n",
    "# using the set of parameters and observables.\n",
    "estimator = Estimator(mode=backend)\n",
    "job = estimator.run([estimator_pub])\n",
    "result = job.result()\n"
   ]
  },
  {
   "cell_type": "markdown",
   "metadata": {},
   "source": [
    "## Overview of execution results\n",
    "\n",
    "Once one or more PUBs are sent to a QPU for execution and have successfully completed their associated jobs, the data is returned within a `PrimitiveResult` container object. This data structure contains an iterable list of `PubResult` objects containing the job results for each pub that was executed as well as a `metadata` attribute in the form of a dictionary specifying the runtime options used for the job. The metadata for both types reflects the various [runtime options](../api/qiskit-ibm-runtime/options) which were specified through the primitive used to submit the job."
   ]
  },
  {
   "cell_type": "code",
   "execution_count": 26,
   "metadata": {},
   "outputs": [
    {
     "name": "stdout",
     "output_type": "stream",
     "text": [
      "The metadata of the result is:\n",
      "'dynamical_decoupling' : {'enable': False, 'sequence_type': 'XX', 'extra_slack_distribution': 'middle', 'scheduling_method': 'alap'},\n",
      "'twirling' : {'enable_gates': False, 'enable_measure': True, 'num_randomizations': 'auto', 'shots_per_randomization': 'auto', 'interleave_randomizations': True, 'strategy': 'active-accum'},\n",
      "'resilience' : {'measure_mitigation': True, 'zne_mitigation': False, 'pec_mitigation': False},\n",
      "'version' : 2,\n"
     ]
    }
   ],
   "source": [
    "# Print out the results metadata\n",
    "print(f'The metadata of the result is:')\n",
    "for key, val in result.metadata.items():\n",
    "    print(f\"'{key}' : {val},\")"
   ]
  },
  {
   "cell_type": "markdown",
   "metadata": {},
   "source": [
    "The data contained within each `PubResult` is dependent on the error mitigation options that were specified through the primitive that the job was submitted with (such as [ZNE](./run/error-mitigation-explanation#zero-noise-extrapolation-zne) or [PEC](./run/error-mitigation-explanation#probabilistic-error-cancellation-pec)). However, no matter what runtime options are specified, each `PubResult` for the Estimator primitive will contain a list of expectation values (`PubResult.data.evs`) and associated standard deviations (`PubResult.data.stds`)."
   ]
  },
  {
   "cell_type": "code",
   "execution_count": 27,
   "metadata": {},
   "outputs": [
    {
     "name": "stdout",
     "output_type": "stream",
     "text": [
      "The PubResult has data: DataBin(evs=np.ndarray(<shape=(3, 100), dtype=float64>), stds=np.ndarray(<shape=(3, 100), dtype=float64>), ensemble_standard_error=np.ndarray(<shape=(3, 100), dtype=float64>), shape=(3, 100))\n",
      "With keys: dict_keys(['evs', 'stds', 'ensemble_standard_error'])\n"
     ]
    }
   ],
   "source": [
    "print(f'The PubResult has data: {result[0].data}')\n",
    "print(f'With corresponding keys: {result[0].data.keys()}')"
   ]
  },
  {
   "cell_type": "markdown",
   "metadata": {},
   "source": [
    "For the Sampler primitive, the data returned is in the form of:"
   ]
  },
  {
   "cell_type": "code",
   "execution_count": 2,
   "metadata": {},
   "outputs": [
    {
     "name": "stdout",
     "output_type": "stream",
     "text": [
      "<IBMBackend('ibm_torino')>\n"
     ]
    }
   ],
   "source": [
    "from qiskit_ibm_runtime import QiskitRuntimeService\n",
    "from qiskit.circuit import Parameter, QuantumCircuit\n",
    "from qiskit_ibm_runtime import (\n",
    "    EstimatorV2 as Estimator,\n",
    "    SamplerV2 as Sampler,\n",
    "    QiskitRuntimeService,\n",
    ")\n",
    "from qiskit.transpiler.preset_passmanagers import generate_preset_pass_manager\n",
    "from qiskit.quantum_info import Pauli, SparsePauliOp\n",
    "import numpy as np\n",
    "\n",
    "# Instantiate runtime service and get\n",
    "# the least busy backend\n",
    "service = QiskitRuntimeService()\n",
    "backend = service.least_busy(operational=True, simulator=False)\n",
    "print(backend)\n",
    "\n",
    "# Define a circuit with two parameters.\n",
    "circuit = QuantumCircuit(2)\n",
    "circuit.h(0)\n",
    "circuit.cx(0, 1)\n",
    "circuit.ry(Parameter(\"a\"), 0)\n",
    "circuit.rz(Parameter(\"b\"), 0)\n",
    "circuit.cx(0, 1)\n",
    "circuit.h(0)\n",
    "\n",
    "\n",
    "# Now define a sweep over parameter values, where the two axes are over the\n",
    "# two parameters in the circuit.\n",
    "params = np.vstack(\n",
    "    [\n",
    "        np.linspace(-np.pi, np.pi, 100),\n",
    "        np.linspace(-4 * np.pi, 4 * np.pi, 100),\n",
    "    ]\n",
    ").T"
   ]
  },
  {
   "cell_type": "code",
   "execution_count": 2,
   "metadata": {},
   "outputs": [
    {
     "name": "stdout",
     "output_type": "stream",
     "text": [
      "ct25v5wwtztg008aszng\n"
     ]
    }
   ],
   "source": [
    "# Add measurements to the circuit\n",
    "circuit.measure_all()\n",
    "\n",
    "# Transpile the circuit\n",
    "pm = generate_preset_pass_manager(optimization_level=1, backend=backend)\n",
    "transpiled_circuit = pm.run(circuit)\n",
    "layout = transpiled_circuit.layout\n",
    "\n",
    "\n",
    "# Define the pub for the sampler primitive\n",
    "sampler_pub = (transpiled_circuit, params)\n",
    "\n",
    "# Instantiate the new sampler object, then run the transpiled circuit\n",
    "# using the set of parameters and observables.\n",
    "sampler = Sampler(mode=backend)\n",
    "job = sampler.run([sampler_pub])\n",
    "print(job.job_id())"
   ]
  },
  {
   "cell_type": "code",
   "execution_count": 3,
   "metadata": {},
   "outputs": [],
   "source": [
    "job = service.job('ct25v5wwtztg008aszng')\n",
    "result = job.result()"
   ]
  },
  {
   "cell_type": "code",
   "execution_count": 15,
   "metadata": {},
   "outputs": [
    {
     "name": "stdout",
     "output_type": "stream",
     "text": [
      "Sampler Data is: DataBin(meas=BitArray(<shape=(100,), num_shots=4096, num_bits=2>), shape=(100,))\n",
      "Its keys are: dict_items([('meas', BitArray(<shape=(100,), num_shots=4096, num_bits=2>))])\n"
     ]
    },
    {
     "data": {
      "text/plain": [
       "{'11': 115808, '10': 104963, '01': 89334, '00': 99495}"
      ]
     },
     "execution_count": 15,
     "metadata": {},
     "output_type": "execute_result"
    }
   ],
   "source": [
    "print(f'Sampler Data is: {result[0].data}')\n",
    "print(f'It has the key-value pair: {result[0].data.items()}')\n",
    "\n",
    "result[0].data.meas.get_counts()"
   ]
  },
  {
   "cell_type": "code",
   "execution_count": null,
   "metadata": {},
   "outputs": [],
   "source": []
  }
 ],
 "metadata": {
  "kernelspec": {
   "display_name": "qiskit_1-0_scratch_space-fyWgEqUn-py3.11",
   "language": "python",
   "name": "python3"
  },
  "language_info": {
   "codemirror_mode": {
    "name": "ipython",
    "version": 3
   },
   "file_extension": ".py",
   "mimetype": "text/x-python",
   "name": "python",
   "nbconvert_exporter": "python",
   "pygments_lexer": "ipython3",
   "version": "3.11.7"
  }
 },
 "nbformat": 4,
 "nbformat_minor": 2
}
