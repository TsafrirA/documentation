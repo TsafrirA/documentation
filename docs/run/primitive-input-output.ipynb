{
 "cells": [
  {
   "cell_type": "markdown",
   "metadata": {},
   "source": [
    "# Understanding primitive inputs and outputs\n",
    "\n",
    "This page gives an overview of the inputs and outputs of the V2 primitives implemented by Qiskit Runtime which will execute workloads on an IBM Quantum backend. These interfaces provide you with the ability to efficiently define vectorized workloads by using a data structure known as a Primitive Unified Bloc (PUB). These PUBs are used as the fundamental unit of work which a backend needs in order to execute these workloads. \n",
    "\n",
    "Once these workloads are submitted as jobs to the IBM Quantum platform, they are executed and the data returned is dependent on the PUBs which were executed, as well as any error mitigation or suppression options that were defined when the primitive was invoked."
   ]
  },
  {
   "cell_type": "markdown",
   "metadata": {},
   "source": [
    "## Overview of PUBS\n",
    "\n",
    "The PUB data structure defines individual workloads to be submitted to a backend for execution on a QPU. It is a tuple which contains four values:\n",
    "- A single `QuantumCircuit` which possibly containing one or more `Parameters`\n",
    "- A list of one or more observables, which specify the expectation values to estimate. The data can be in any one of the `ObservablesArrayLike` format such as `Pauli`, `SparsePauliOp`, or `str`. (Not needed for the `Sampler` primitive)\n",
    "- A collection of parameter values to bind the circuit against $\\theta_k$\n",
    "- (Optionally) a target precision for expectation values to estimate (Not needed for the `Sampler` primitive)\n",
    "\n",
    "When invoking a primitive's [`run()`](api/qiskit-ibm-runtime/qiskit_ibm_runtime.EstimatorV2#qiskit_ibm_runtime.EstimatorV2.run) method, the argument expected is a `list` of one or PUBs, the data of which will depend on the computation being submitted to the backend. \n",
    "\n",
    "The below code demonstrates an example set of vectorized inputs to the `Estimator` primitive and executes them on an IBM Quantum backend as a single `RuntimeJobV2 ` object."
   ]
  },
  {
   "cell_type": "markdown",
   "metadata": {},
   "source": [
    "<Admonition type=\"caution\" title=\"Important\">\n",
    "To ensure faster and more efficient results, as of 1 March 2024, circuits and observables need to be transformed to only use instructions supported by the system (referred to as *instruction set architecture (ISA)* circuits and observables) before being submitted to the Qiskit Runtime primitives.  See the [transpilation documentation](../transpile) for instructions to transform circuits.  Due to this change, the primitives will no longer perform layout or routing operations.  Consequently, transpilation options referring to those tasks will no longer have any effect. By default, all primitives except Sampler V2 still optimize the input circuits. To bypass all optimization, set `optimization_level=0`.\n",
    "\n",
    "*Exception*: When you initialize the Qiskit Runtime Service with the Q-CTRL channel strategy (example below), abstract circuits are still supported.\n",
    "\n",
    "``` python\n",
    "service = QiskitRuntimeService(channel=\"ibm_cloud\", channel_strategy=\"q-ctrl\")\n",
    "```\n",
    "\n",
    "</Admonition>"
   ]
  },
  {
   "cell_type": "code",
   "execution_count": 1,
   "metadata": {},
   "outputs": [],
   "source": [
    "from qiskit_ibm_runtime import QiskitRuntimeService\n",
    "from qiskit.circuit import Parameter, QuantumCircuit\n",
    "from qiskit_ibm_runtime import (\n",
    "    EstimatorV2 as Estimator,\n",
    "    QiskitRuntimeService,\n",
    ")\n",
    "from qiskit.transpiler.preset_passmanagers import generate_preset_pass_manager\n",
    "from qiskit.quantum_info import Pauli, SparsePauliOp\n",
    "import numpy as np\n",
    "\n",
    "# Instantiate runtime service and get\n",
    "# the least busy backend\n",
    "service = QiskitRuntimeService()\n",
    "backend = service.least_busy(operational=True, simulator=False)\n",
    "\n",
    "# Define a circuit with two parameters.\n",
    "circuit = QuantumCircuit(2)\n",
    "circuit.h(0)\n",
    "circuit.cx(0, 1)\n",
    "circuit.ry(Parameter(\"a\"), 0)\n",
    "circuit.rz(Parameter(\"b\"), 0)\n",
    "circuit.cx(0, 1)\n",
    "circuit.h(0)\n",
    "\n",
    "# Transpile the circuit\n",
    "pm = generate_preset_pass_manager(optimization_level=1, backend=backend)\n",
    "transpiled_circuit = pm.run(circuit)\n",
    "layout = transpiled_circuit.layout\n",
    "\n",
    "\n",
    "# Now define a sweep over parameter values, where the two axes are over the\n",
    "# two parameters in the circuit.\n",
    "params = np.vstack(\n",
    "    [\n",
    "        np.linspace(-np.pi, np.pi, 100),\n",
    "        np.linspace(-4 * np.pi, 4 * np.pi, 100),\n",
    "    ]\n",
    ").T\n",
    "\n",
    "# Define three observables. The inner length-1 lists cause this array of\n",
    "# observables to have shape (3, 1), rather than shape (3,) if they were\n",
    "# omitted.\n",
    "observables = [\n",
    "    [SparsePauliOp([\"XX\", \"IY\"], [0.5, 0.5])],\n",
    "    [SparsePauliOp(\"XX\")],\n",
    "    [SparsePauliOp(\"IY\")],\n",
    "]\n",
    "# Apply the same layout as the transpiled circuit.\n",
    "observables = [\n",
    "    [observable.apply_layout(layout) for observable in observable_set]\n",
    "    for observable_set in observables\n",
    "]\n",
    "\n",
    "# Estimate the expectation value for all 300 combinations of observables\n",
    "# and parameter values, where the pub result will have shape (3, 100).\n",
    "#\n",
    "# This shape is due to our array of parameter bindings having shape\n",
    "# (100, 2), combined with our array of observables having shape (3, 1).\n",
    "pub = (transpiled_circuit, observables, params)\n",
    "\n",
    "# Instantiate the new estimator object, then run the transpiled circuit\n",
    "# using the set of parameters and observables.\n",
    "estimator = Estimator(mode=backend)\n",
    "job = estimator.run([pub])\n",
    "result = job.result()\n",
    "\n",
    "# Print out the results and job metadata\n",
    "print(f\" > Expectation value: {result[0].data.evs}\")\n",
    "print(f\" > Metadata: {result[0].metadata}\")"
   ]
  },
  {
   "cell_type": "markdown",
   "metadata": {},
   "source": [
    "## Overview of execution results\n",
    "\n",
    "Once one or more PUBs are sent to a QPU for execution and have successfully completed their associated jobs, the data is returned as a `PrimitiveResult` object."
   ]
  }
 ],
 "metadata": {
  "kernelspec": {
   "display_name": "qiskit_1-0_scratch_space-fyWgEqUn-py3.11",
   "language": "python",
   "name": "python3"
  },
  "language_info": {
   "codemirror_mode": {
    "name": "ipython",
    "version": 3
   },
   "file_extension": ".py",
   "mimetype": "text/x-python",
   "name": "python",
   "nbconvert_exporter": "python",
   "pygments_lexer": "ipython3",
   "version": "3.11.7"
  }
 },
 "nbformat": 4,
 "nbformat_minor": 2
}
